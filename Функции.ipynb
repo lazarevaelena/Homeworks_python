{
 "cells": [
  {
   "cell_type": "code",
   "execution_count": 1,
   "metadata": {},
   "outputs": [],
   "source": [
    "documents = [\n",
    "{\"type\": \"passport\", \"number\": \"2207 876234\", \"name\": \"Василий Гупкин\"},\n",
    "{\"type\": \"invoice\", \"number\": \"11-2\", \"name\": \"Геннадий Покемонов\"},\n",
    "{\"type\": \"insurance\", \"number\": \"10006\", \"name\": \"Аристарх Павлов\"}\n",
    "]"
   ]
  },
  {
   "cell_type": "code",
   "execution_count": 2,
   "metadata": {},
   "outputs": [],
   "source": [
    "directories = {\n",
    "'1': ['2207 876234', '11-2'],\n",
    "'2': ['10006'],\n",
    "'3': []\n",
    "}"
   ]
  },
  {
   "cell_type": "markdown",
   "metadata": {},
   "source": [
    "## Пункт 1. \n",
    "Пользователь по команде “p” может узнать владельца документа по его номеру"
   ]
  },
  {
   "cell_type": "code",
   "execution_count": 3,
   "metadata": {},
   "outputs": [],
   "source": [
    "def document_owner(documents):\n",
    "        doc = input('Введите номер документа: ')\n",
    "        for document in documents: \n",
    "            if document['number'] == doc:\n",
    "                return document['name']\n",
    "        return \"Документ в базе не найден\""
   ]
  },
  {
   "cell_type": "markdown",
   "metadata": {},
   "source": [
    "## Пункт 2. \n",
    "Пользователь по команде “s” может по номеру документа узнать на какой полке он хранится\n"
   ]
  },
  {
   "cell_type": "code",
   "execution_count": 4,
   "metadata": {},
   "outputs": [],
   "source": [
    "def document_shelf(directories):\n",
    "    doc_shelf = input('Введите номер документа: ')\n",
    "    for k in directories: \n",
    "        if doc_shelf in directories[k]:\n",
    "            return k  \n",
    "    return 'Документ не найден в базе'"
   ]
  },
  {
   "cell_type": "markdown",
   "metadata": {},
   "source": [
    "## Пункт 3. \n",
    "Пользователь по команде “l” может увидеть полную информацию по всем документам"
   ]
  },
  {
   "cell_type": "code",
   "execution_count": 5,
   "metadata": {},
   "outputs": [],
   "source": [
    "def document_info(documents, directories):\n",
    "    for shelf in directories:\n",
    "        for num in directories[shelf]:\n",
    "            found = next(info for info in documents if info['number']==num)\n",
    "            print(f'№: {num}, тип:{found[\"type\"]}, владелец:{found[\"name\"]}, полка хранения: {shelf}')"
   ]
  },
  {
   "cell_type": "markdown",
   "metadata": {},
   "source": [
    "## Пункт 4. \n",
    "Пользователь по команде “as” может добавить новую полку"
   ]
  },
  {
   "cell_type": "code",
   "execution_count": 6,
   "metadata": {},
   "outputs": [],
   "source": [
    "def new_shelf(directories):\n",
    "    num_shelf = input('Введите номер полки: ')\n",
    "    for k in directories.keys(): \n",
    "            if num_shelf in k:\n",
    "                return 'Такая полка уже существует. Текущий перечень полок: ', list(directories.keys())\n",
    "            else: directories[num_shelf] = []\n",
    "            return 'Полка добавлена. Текущий перечень полок: ', list(directories.keys())"
   ]
  },
  {
   "cell_type": "markdown",
   "metadata": {},
   "source": [
    "## Пункт 5. \n",
    "Пользователь по команде “ds” может удалить существующую полку из данных (только если она пустая)"
   ]
  },
  {
   "cell_type": "code",
   "execution_count": 7,
   "metadata": {},
   "outputs": [],
   "source": [
    "def delete_shelf():\n",
    "    del_shelf = input('Введите номер полки: ')\n",
    "    if del_shelf in directories: \n",
    "            if len(directories[del_shelf]) > 0:   \n",
    "                return 'На полке есть документы, удалите их перед удалением полки. Текущий перечень полок:', list(directories.keys())\n",
    "            else: del(directories[del_shelf])\n",
    "            return 'Полка удалена. Текущий перечень полок: ', list(directories.keys())\n",
    "    return 'Такой полки не существует. Текущий перечень полок: ', list(directories.keys())"
   ]
  },
  {
   "cell_type": "markdown",
   "metadata": {},
   "source": [
    "## Итог"
   ]
  },
  {
   "cell_type": "code",
   "execution_count": 8,
   "metadata": {},
   "outputs": [
    {
     "name": "stdout",
     "output_type": "stream",
     "text": [
      "Введите команду: p\n",
      "Введите номер документа: 11-2\n",
      "Геннадий Покемонов\n",
      "\n",
      "Введите команду: s\n",
      "Введите номер документа: 10006\n",
      "2\n",
      "\n",
      "Введите команду: l\n",
      "№: 2207 876234, тип:passport, владелец:Василий Гупкин, полка хранения: 1\n",
      "№: 11-2, тип:invoice, владелец:Геннадий Покемонов, полка хранения: 1\n",
      "№: 10006, тип:insurance, владелец:Аристарх Павлов, полка хранения: 2\n",
      "\n",
      "Введите команду: as\n",
      "Введите номер полки: 1\n",
      "('Такая полка уже существует. Текущий перечень полок: ', ['1', '2', '3'])\n",
      "\n",
      "Введите команду: ds\n",
      "Введите номер полки: 1\n",
      "('На полке есть документы, удалите их перед удалением полки. Текущий перечень полок:', ['1', '2', '3'])\n",
      "\n",
      "Введите команду: end\n"
     ]
    }
   ],
   "source": [
    "while True:\n",
    "    command = input('Введите команду: ')\n",
    "    if command == 'p':\n",
    "        print(document_owner(documents))\n",
    "        print('')\n",
    "    elif command == 's':\n",
    "        print(document_shelf(directories))\n",
    "        print('')\n",
    "    elif command == 'l':\n",
    "        document_info(documents, directories)\n",
    "        print('')\n",
    "    elif command == 'as':\n",
    "        print(new_shelf(directories))\n",
    "        print('')\n",
    "    elif command == 'ds':\n",
    "        print(delete_shelf())\n",
    "        print('')\n",
    "    elif command == 'end':\n",
    "        break"
   ]
  },
  {
   "cell_type": "code",
   "execution_count": null,
   "metadata": {},
   "outputs": [],
   "source": []
  }
 ],
 "metadata": {
  "kernelspec": {
   "display_name": "Python 3",
   "language": "python",
   "name": "python3"
  },
  "language_info": {
   "codemirror_mode": {
    "name": "ipython",
    "version": 3
   },
   "file_extension": ".py",
   "mimetype": "text/x-python",
   "name": "python",
   "nbconvert_exporter": "python",
   "pygments_lexer": "ipython3",
   "version": "3.8.5"
  }
 },
 "nbformat": 4,
 "nbformat_minor": 4
}
