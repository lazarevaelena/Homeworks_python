{
 "cells": [
  {
   "cell_type": "markdown",
   "metadata": {},
   "source": [
    "### Задание 1\n",
    "Даны 2 переменных, в которых хранятся строки произвольной длины: phrase_1 и phrase_2.\n",
    "Напишите код, который проверяет какая из этих строк длиннее."
   ]
  },
  {
   "cell_type": "code",
   "execution_count": 1,
   "metadata": {},
   "outputs": [
    {
     "name": "stdout",
     "output_type": "stream",
     "text": [
      "Фраза 2 длиннее фразы 1\n"
     ]
    }
   ],
   "source": [
    "phrase_1 = '640Кб должно хватить для любых задач. Билл Гейтс (по легенде)'\n",
    "phrase_2 = 'Насколько проще было бы писать программы, если бы не заказчики'\n",
    "if len(phrase_1) > len(phrase_2):\n",
    "    print ('Фраза 1 длиннее фразы 2')\n",
    "elif len(phrase_1) < len(phrase_2):\n",
    "    print('Фраза 2 длиннее фразы 1')\n",
    "else: \n",
    "    print('Фразы равной длины')"
   ]
  },
  {
   "cell_type": "markdown",
   "metadata": {},
   "source": [
    "### Задание 2\n",
    "Дана переменная, в которой хранится четырехзначное число (год). Необходимо написать программу, которая выведет, является ли данный год високосным или обычным."
   ]
  },
  {
   "cell_type": "code",
   "execution_count": 3,
   "metadata": {},
   "outputs": [
    {
     "name": "stdout",
     "output_type": "stream",
     "text": [
      "Введите год:2012\n",
      "Високосный год\n"
     ]
    }
   ],
   "source": [
    "year = int(input('Введите год:'))\n",
    "if (year % 4 == 0) and (year % 100 != 0) or (year % 400 == 0):\n",
    "    print('Високосный год')\n",
    "else:\n",
    "    print('Обычный год')"
   ]
  },
  {
   "cell_type": "markdown",
   "metadata": {},
   "source": [
    "### Задание 3\n",
    "Необходимо написать программу, которая будет запрашивать у пользователя месяц и дату рождения и выводить соответствующий знак зодиака."
   ]
  },
  {
   "cell_type": "code",
   "execution_count": 6,
   "metadata": {},
   "outputs": [
    {
     "name": "stdout",
     "output_type": "stream",
     "text": [
      "Введите день 22\n",
      "Введите месяц 04\n",
      "Ваш знак зодиака: Телец\n"
     ]
    }
   ],
   "source": [
    "day = int(input('Введите день '))\n",
    "month = int(input('Введите месяц '))\n",
    "\n",
    "if day >= 21 and month == 3 and day <= 31 or day <= 19 and month == 4 and day >= 1:\n",
    "    print('Ваш знак зодиака: Овен')\n",
    "elif day >= 20 and month == 4 and day <= 30 or day <= 20 and month == 5 and day >= 1:\n",
    "    print ('Ваш знак зодиака: Телец')\n",
    "elif day >= 21 and month == 5 and day <= 31 or day <=20 and month == 6 and day >= 1:\n",
    "    print('Ваш знак зодиака: Близнецы')\n",
    "elif day >=21 and month == 6 and day <= 30 or day <=22 and month == 7 and day >= 1:\n",
    "    print('Ваш знак зодиака: Рак')\n",
    "elif day >=23 and month == 7 and day <= 31 or day <=22 and month == 8 and day >= 1:\n",
    "    print('Ваш знак зодиака: Лев')\n",
    "elif day >=23 and month == 8 and day <= 31 or day <=22 and month == 9 and day >= 1:\n",
    "    print('Ваш знак зодиака: Дева')\n",
    "elif day >=23 and month == 9 and day <= 30 or day <=22 and month == 10 and day >= 1:\n",
    "    print('Ваш знак зодиака: Весы')\n",
    "elif day >=23 and month == 10 and day <= 31 or day <=21 and month == 11 and day >= 1:\n",
    "    print('Ваш знак зодиака: Скорпион')\n",
    "elif day >=22 and month == 11 and day <= 31 or day <=21 and month == 12 and day >= 1:\n",
    "    print('Ваш знак зодиака: Стрелец')\n",
    "elif day >=21 and month == 12 and day <= 31 or day <=19 and month == 1 and day >= 1:\n",
    "    print('Ваш знак зодиака: Козерог')\n",
    "elif day >=20 and month == 1 and day <= 31 or day <=18 and month == 2 and day >= 1:\n",
    "    print('Ваш знак зодиака: Водолей')\n",
    "elif day >=19 and month == 2 and day <= 29 or day <=20 and month == 3 and day >= 1:\n",
    "    print('Ваш знак зодиака: Рыбы')\n",
    "else: print('Введите корректные дату и месяц')"
   ]
  },
  {
   "cell_type": "markdown",
   "metadata": {},
   "source": [
    "### Задание 4\n",
    "Вам нужно написать программу для подбора упаковок по размерам товара. Размеры (ширина, длина, высота) хранятся в переменных (в сантиметрах):\n",
    "\n",
    "Используйте следующие правила:\n",
    "- если каждое из трех измерений менее 15 сантиметров, то выведите на экран \"Коробка №1\";\n",
    "- если хотя бы одно из измерений больше 15 сантиметров, но менее 50 сантиметров, то выводите \"Коробка №2\";\n",
    "- если длина товара больше 2 метров, то выводите \"Упаковка для лыж\";\n",
    "- во всех остальных случаях выводите \"Стандартная коробка №3\"."
   ]
  },
  {
   "cell_type": "code",
   "execution_count": 5,
   "metadata": {},
   "outputs": [
    {
     "name": "stdout",
     "output_type": "stream",
     "text": [
      "Упаковка для лыж\n"
     ]
    }
   ],
   "source": [
    "length = 203\n",
    "width = 49\n",
    "height = 18\n",
    "if length < 15 or width < 15 or height < 15:\n",
    "    print('Коробка №1')\n",
    "elif length >= 200:\n",
    "    print('Упаковка для лыж')\n",
    "elif (length >= 15 or width >= 15 or height >= 15) and (length <= 50 or width <= 50 or height <= 50):\n",
    "    print ('Коробка №2')\n",
    "else: print('Стандартная коробка №3')"
   ]
  },
  {
   "cell_type": "markdown",
   "metadata": {},
   "source": [
    "### Задание 5\n",
    "Напишите программу, которая сможет вычислять площади трех фигур (круг, треугольник и прямоугольник). \n",
    "Тип фигуры запрашиваем через пользовательский ввод, после чего делаем запрос характеристик фигуры."
   ]
  },
  {
   "cell_type": "code",
   "execution_count": 6,
   "metadata": {},
   "outputs": [
    {
     "name": "stdout",
     "output_type": "stream",
     "text": [
      "Введите фигуру Треугольник\n",
      "Введите длину стороны A: 7\n",
      "Введите длину стороны B: 9\n",
      "Введите длину стороны C: 12\n",
      "31.304951684997057\n"
     ]
    }
   ],
   "source": [
    "import math\n",
    "figure = input('Введите фигуру ')\n",
    "if figure == 'Круг':\n",
    "    radius = int(input('Введите радиус '))\n",
    "    s_kruga = 3.14 * (radius ** 2)\n",
    "    print(s_kruga)\n",
    "elif figure == 'Треугольник':\n",
    "    storona_a = int(input('Введите длину стороны A: '))\n",
    "    storona_b = int(input('Введите длину стороны B: '))\n",
    "    storona_c = int(input('Введите длину стороны C: '))\n",
    "    p = (storona_a + storona_b + storona_c)/2\n",
    "    s_treug = math.sqrt((p * (p - storona_a) * (p - storona_b) * (p - storona_c)))\n",
    "    print(s_treug)\n",
    "elif figure == \"Прямоугольник\":\n",
    "    storona_a1 = int(input('Введите длину стороны A: '))\n",
    "    storona_b2 = int(input('Введите длину стороны B: '))\n",
    "    s_pr = storona_a1 * storona_b2\n",
    "    print(s_pr)\n",
    "else: print('Введите корректное название фигуры')"
   ]
  }
 ],
 "metadata": {
  "kernelspec": {
   "display_name": "Python 3",
   "language": "python",
   "name": "python3"
  },
  "language_info": {
   "codemirror_mode": {
    "name": "ipython",
    "version": 3
   },
   "file_extension": ".py",
   "mimetype": "text/x-python",
   "name": "python",
   "nbconvert_exporter": "python",
   "pygments_lexer": "ipython3",
   "version": "3.8.5"
  }
 },
 "nbformat": 4,
 "nbformat_minor": 4
}
